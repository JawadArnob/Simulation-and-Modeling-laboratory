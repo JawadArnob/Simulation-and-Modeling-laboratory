{
  "nbformat": 4,
  "nbformat_minor": 0,
  "metadata": {
    "colab": {
      "name": "simulation assignment 3.1.ipynb",
      "provenance": [],
      "collapsed_sections": [],
      "authorship_tag": "ABX9TyPLvObf0Ghg/BVzpbDz7kqH",
      "include_colab_link": true
    },
    "kernelspec": {
      "name": "python3",
      "display_name": "Python 3"
    },
    "language_info": {
      "name": "python"
    }
  },
  "cells": [
    {
      "cell_type": "markdown",
      "metadata": {
        "id": "view-in-github",
        "colab_type": "text"
      },
      "source": [
        "<a href=\"https://colab.research.google.com/github/JawadArnob/Simulation-and-Modeling-laboratory/blob/main/simulation_assignment_3_1.ipynb\" target=\"_parent\"><img src=\"https://colab.research.google.com/assets/colab-badge.svg\" alt=\"Open In Colab\"/></a>"
      ]
    },
    {
      "cell_type": "code",
      "metadata": {
        "colab": {
          "base_uri": "https://localhost:8080/",
          "height": 570
        },
        "id": "pt4RkqjHPvaf",
        "outputId": "22e04a5f-93de-4cbb-9c4f-c3a8c44b988e"
      },
      "source": [
        "import random\n",
        "import math\n",
        "import matplotlib.pyplot as plt\n",
        "\n",
        "n=[100,1000,5000,10000]\n",
        "a=0\n",
        "b=2\n",
        "error_array=[]\n",
        "for trials in n:\n",
        "  func_sum=0 # f_avg\n",
        "  func_square_sum=0 # f_square_avg\n",
        "\n",
        "  for i in range(trials):\n",
        "    #randomly pick a value of x between a and b\n",
        "     x= random.uniform(a,b)\n",
        "    #find f(x) value\n",
        "     h=x**2*math.exp(-x)*math.log(x+2)\n",
        "    #func_sum update\n",
        "     func_sum += h\n",
        "     func_square_sum += (h**2)\n",
        "    #func_squared_sum update\n",
        "  \n",
        "  func_average=func_sum/trials\n",
        "  func_squared_average=func_square_sum/trials\n",
        "  # print(func_average, func_squared_average, \" :: err\")\n",
        "  integral_value=func_average*(b-a) \n",
        " \n",
        "  error=((b-a)/math.sqrt(trials))*(math.sqrt(func_squared_average - (func_average**2) ))\n",
        "  error_array.append(error)\n",
        "  print(\"For number of points= \", trials)\n",
        "  print(\"Integral value: \",integral_value)\n",
        "  print(\"Error:\", error)\n",
        "  print(\"\")\n",
        "  \n",
        "z2=['100','1000','5000','10000']\n",
        "plt.bar(x2,error_array,color=\"green\")\n",
        "plt.xlabel(\"number of points\")\n",
        "plt.ylabel(\"Error estimate\")\n",
        "plt.show()"
      ],
      "execution_count": 7,
      "outputs": [
        {
          "output_type": "stream",
          "text": [
            "For number of points=  100\n",
            "Integral value:  0.7313750002721825\n",
            "Error: 0.050863088376647415\n",
            "\n",
            "For number of points=  1000\n",
            "Integral value:  0.7741086739762048\n",
            "Error: 0.016168550711130988\n",
            "\n",
            "For number of points=  5000\n",
            "Integral value:  0.757006230605272\n",
            "Error: 0.0071833908031641875\n",
            "\n",
            "For number of points=  10000\n",
            "Integral value:  0.7731600659642826\n",
            "Error: 0.005064156739903234\n",
            "\n"
          ],
          "name": "stdout"
        },
        {
          "output_type": "display_data",
          "data": {
            "image/png": "[encoded data removed]",
            "text/plain": [
              "<Figure size 432x288 with 1 Axes>"
            ]
          },
          "metadata": {
            "tags": [],
            "needs_background": "light"
          }
        }
      ]
    },
    {
      "cell_type": "code",
      "metadata": {
        "colab": {
          "base_uri": "https://localhost:8080/"
        },
        "id": "wfI2nd2XiHOj",
        "outputId": "ec05ac0c-502b-40b1-f9d7-97c5217bfb7e"
      },
      "source": [
        "x=2\n",
        "h=x**2*math.exp(-x)*math.log(x+2)\n",
        "print(h)"
      ],
      "execution_count": 3,
      "outputs": [
        {
          "output_type": "stream",
          "text": [
            "0.7504581600459178\n"
          ],
          "name": "stdout"
        }
      ]
    }
  ]
}