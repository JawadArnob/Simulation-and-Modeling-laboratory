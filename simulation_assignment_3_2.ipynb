{
  "nbformat": 4,
  "nbformat_minor": 0,
  "metadata": {
    "colab": {
      "name": "simulation assignment 3.2.ipynb",
      "provenance": [],
      "collapsed_sections": [],
      "authorship_tag": "ABX9TyM3fGI0dQ7pAUpphildbyTZ",
      "include_colab_link": true
    },
    "kernelspec": {
      "name": "python3",
      "display_name": "Python 3"
    },
    "language_info": {
      "name": "python"
    }
  },
  "cells": [
    {
      "cell_type": "markdown",
      "metadata": {
        "id": "view-in-github",
        "colab_type": "text"
      },
      "source": [
        "<a href=\"https://colab.research.google.com/github/JawadArnob/Simulation-and-Modeling-laboratory/blob/main/simulation_assignment_3_2.ipynb\" target=\"_parent\"><img src=\"https://colab.research.google.com/assets/colab-badge.svg\" alt=\"Open In Colab\"/></a>"
      ]
    },
    {
      "cell_type": "code",
      "metadata": {
        "colab": {
          "base_uri": "https://localhost:8080/",
          "height": 715
        },
        "id": "gF8uWbpDB6wj",
        "outputId": "0fc15350-d0f7-4d57-c432-d72da9bbf729"
      },
      "source": [
        "import random\n",
        "import math\n",
        "import matplotlib.pyplot as plt\n",
        "\n",
        "n=[100,1000,5000,10000]\n",
        "# a=0\n",
        "# b=math.pi/4\n",
        "error_array=[]\n",
        "for trials in n:\n",
        "  func_sum1=0 # f_avg\n",
        "  func_square_sum1=0 # f_square_avg\n",
        "\n",
        "  func_sum2=0 # f_avg\n",
        "  func_square_sum2=0 # f_square_avg\n",
        "\n",
        "  for i in range(trials):\n",
        "    #randomly pick a value of x between a and b\n",
        "     x1= random.uniform(0,4)\n",
        "    #find f(x) value\n",
        "     h1=math.sqrt(4*x1)\n",
        "    #func_sum update\n",
        "     func_sum1 += h1\n",
        "     func_square_sum1 += (h1**2)\n",
        "    #func_squared_sum update\n",
        "  \n",
        "  func_average1=func_sum1/trials\n",
        "  func_squared_average1=func_square_sum1/trials\n",
        "  # print(func_average, func_squared_average, \" :: err\")\n",
        "  integral_value1=func_average1*(4-0) \n",
        "\n",
        "  print(integral_value1)\n",
        " \n",
        "  error1=((4-0)/math.sqrt(trials))*(math.sqrt(func_squared_average1 - (func_average1**2) ))\n",
        "  # error_array.append(error)\n",
        "\n",
        "\n",
        "  for i in range(trials):\n",
        "    #randomly pick a value of x between a and b\n",
        "     x2= random.uniform(4,8)\n",
        "    #find f(x) value\n",
        "     h2=8-x2\n",
        "    #func_sum update\n",
        "     func_sum2 += h2\n",
        "     func_square_sum2 += (h2**2)\n",
        "    #func_squared_sum update\n",
        "  \n",
        "  func_average2=func_sum2/trials\n",
        "  func_squared_average2=func_square_sum2/trials\n",
        "  # print(func_average, func_squared_average, \" :: err\")\n",
        "  integral_value2=func_average2*(8-4) \n",
        "  print(integral_value2)\n",
        " \n",
        "  error2=((8-4)/math.sqrt(trials))*(math.sqrt(func_squared_average2 - (func_average2**2) ))\n",
        "  # error_array.append(error)\n",
        "\n",
        "  integral_value=integral_value1+integral_value2\n",
        "  error=error1+error2\n",
        "  error_array.append(error)\n",
        "\n",
        "  print(\"For number of points= \", trials)\n",
        "  print(\"Integral value: \",integral_value)\n",
        "  print(\"Error:\", error)\n",
        "  print(\"\")\n",
        "  \n",
        "z=['100','1000','5000','10000']\n",
        "plt.bar(z,error_array,color=\"green\")\n",
        "plt.xlabel(\"Value of n\")\n",
        "plt.ylabel(\"Error estimate\")\n",
        "plt.show()"
      ],
      "execution_count": 1,
      "outputs": [
        {
          "output_type": "stream",
          "text": [
            "10.751769520832541\n",
            "7.883554424061287\n",
            "For number of points=  100\n",
            "Integral value:  18.635323944893827\n",
            "Error: 0.8750757414614232\n",
            "\n",
            "10.565119928912935\n",
            "8.231160173330464\n",
            "For number of points=  1000\n",
            "Integral value:  18.7962801022434\n",
            "Error: 0.2615815252293838\n",
            "\n",
            "10.66460779755597\n",
            "7.875112221462621\n",
            "For number of points=  5000\n",
            "Integral value:  18.539720019018592\n",
            "Error: 0.11828452252602925\n",
            "\n",
            "10.636431525209312\n",
            "8.017430990506387\n",
            "For number of points=  10000\n",
            "Integral value:  18.6538625157157\n",
            "Error: 0.08374596356225311\n",
            "\n"
          ],
          "name": "stdout"
        },
        {
          "output_type": "display_data",
          "data": {
            "image/png": "[encoded data removed]",
            "text/plain": [
              "<Figure size 432x288 with 1 Axes>"
            ]
          },
          "metadata": {
            "tags": [],
            "needs_background": "light"
          }
        }
      ]
    }
  ]
}