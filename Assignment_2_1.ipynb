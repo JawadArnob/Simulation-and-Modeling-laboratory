{
  "nbformat": 4,
  "nbformat_minor": 0,
  "metadata": {
    "colab": {
      "name": "Assignment 2.1.ipynb",
      "provenance": [],
      "collapsed_sections": [],
      "authorship_tag": "ABX9TyMVfeLoRyte0QmhPNja81FY",
      "include_colab_link": true
    },
    "kernelspec": {
      "name": "python3",
      "display_name": "Python 3"
    }
  },
  "cells": [
    {
      "cell_type": "markdown",
      "metadata": {
        "id": "view-in-github",
        "colab_type": "text"
      },
      "source": [
        "<a href=\"https://colab.research.google.com/github/JawadArnob/Simulation-and-Modeling-laboratory/blob/main/Assignment_2_1.ipynb\" target=\"_parent\"><img src=\"https://colab.research.google.com/assets/colab-badge.svg\" alt=\"Open In Colab\"/></a>"
      ]
    },
    {
      "cell_type": "code",
      "metadata": {
        "colab": {
          "base_uri": "https://localhost:8080/",
          "height": 375
        },
        "id": "zib3mV1KcDXP",
        "outputId": "3094014d-6f54-488c-df71-7133755d36f6"
      },
      "source": [
        "import math\r\n",
        "import random\r\n",
        "import matplotlib.pyplot as plt\r\n",
        "\r\n",
        "N=100\r\n",
        "hit=0\r\n",
        "\r\n",
        "plt.figure(figsize=(5,5))\r\n",
        "plt.plot([-5,5,5,-5,-5],[-5,-5,5,5,-5],c='red')\r\n",
        "\r\n",
        "interval=1/1000\r\n",
        "\r\n",
        "ax = []\r\n",
        "ay = []\r\n",
        "\r\n",
        "ax1 = []\r\n",
        "ay1 = []\r\n",
        "for i in range(-3000, 3001):\r\n",
        "    x = i*interval\r\n",
        "    ax.append(x)\r\n",
        "    y = math.sqrt(9-x*x)\r\n",
        "    ay.append(y)\r\n",
        "\r\n",
        "for i in range(-3000, 3001):\r\n",
        "    x = i*interval\r\n",
        "    ax1.append(x)\r\n",
        "    y = -(math.sqrt(9-x*x))\r\n",
        "    ay1.append(y)\r\n",
        "#plotting circle\r\n",
        "plt.plot(ax,ay,c='green')\r\n",
        "plt.plot(ax1,ay1,c='green')\r\n",
        "\r\n",
        "hx = []\r\n",
        "hy = []\r\n",
        "\r\n",
        "mx = []\r\n",
        "my = []\r\n",
        "\r\n",
        "for i in range(1,N+1):\r\n",
        "  x=random.uniform(-5,5)\r\n",
        "  y=random.uniform(-5,5)\r\n",
        " # if y <= math.sqrt(9-x*x) and y>= -(math.sqrt(9-x*x)):\r\n",
        "  if (x*x+y*y)<=9:\r\n",
        "        hit += 1\r\n",
        "        hx.append(x)\r\n",
        "        hy.append(y)\r\n",
        "\r\n",
        "  else:\r\n",
        "        mx.append(x)\r\n",
        "        my.append(y)\r\n",
        "pi=(hit*100)/(N*9)\r\n",
        "print(pi)\r\n",
        "\r\n",
        "plt.scatter(mx,my,c='blue',s=4)\r\n",
        "plt.scatter(hx,hy,c='red',s=4)\r\n",
        "\r\n",
        "print(hit)\r\n",
        "\r\n",
        "est_area=pi*9\r\n",
        "print('estimated area of circle', est_area)\r\n",
        "\r\n"
      ],
      "execution_count": 66,
      "outputs": [
        {
          "output_type": "stream",
          "text": [
            "3.6666666666666665\n",
            "33\n",
            "estimated area of circle 33.0\n"
          ],
          "name": "stdout"
        },
        {
          "output_type": "display_data",
          "data": {
            "image/png": "[encoded data removed]",
            "text/plain": [
              "<Figure size 360x360 with 1 Axes>"
            ]
          },
          "metadata": {
            "tags": [],
            "needs_background": "light"
          }
        }
      ]
    },
    {
      "cell_type": "code",
      "metadata": {
        "colab": {
          "base_uri": "https://localhost:8080/",
          "height": 336
        },
        "id": "yLYPRH35R11V",
        "outputId": "d8913662-c9a4-4613-b137-88a40317d2e6"
      },
      "source": [
        "\r\n",
        "fig = plt.figure()\r\n",
        "ax = fig.add_axes([0,0,1,1])\r\n",
        "langs = ['100','1000','10000']\r\n",
        "students = [3.33,3.03,3.04]\r\n",
        "ax.bar(langs,students)\r\n",
        "plt.show()"
      ],
      "execution_count": 64,
      "outputs": [
        {
          "output_type": "display_data",
          "data": {
            "image/png": "[encoded data removed]",
            "text/plain": [
              "<Figure size 432x288 with 1 Axes>"
            ]
          },
          "metadata": {
            "tags": [],
            "needs_background": "light"
          }
        }
      ]
    },
    {
      "cell_type": "code",
      "metadata": {
        "colab": {
          "base_uri": "https://localhost:8080/",
          "height": 336
        },
        "id": "JIIhTQuMSKLh",
        "outputId": "819a260a-bb14-4bf7-e5a0-76214e4d4abd"
      },
      "source": [
        "\r\n",
        "fig = plt.figure()\r\n",
        "ax = fig.add_axes([0,0,1,1])\r\n",
        "langs = ['100','1000','10000']\r\n",
        "students = [33.0,29.0,27.42]\r\n",
        "ax.bar(langs,students)\r\n",
        "plt.show()"
      ],
      "execution_count": 68,
      "outputs": [
        {
          "output_type": "display_data",
          "data": {
            "image/png": "[encoded data removed]",
            "text/plain": [
              "<Figure size 432x288 with 1 Axes>"
            ]
          },
          "metadata": {
            "tags": [],
            "needs_background": "light"
          }
        }
      ]
    }
  ]
}