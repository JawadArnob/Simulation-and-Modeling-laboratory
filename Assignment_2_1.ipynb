{
  "nbformat": 4,
  "nbformat_minor": 0,
  "metadata": {
    "colab": {
      "name": "Assignment 2.1.ipynb",
      "provenance": [],
      "collapsed_sections": [],
      "authorship_tag": "ABX9TyORaTUMWQW4eICu3L7CFWkL",
      "include_colab_link": true
    },
    "kernelspec": {
      "name": "python3",
      "display_name": "Python 3"
    }
  },
  "cells": [
    {
      "cell_type": "markdown",
      "metadata": {
        "id": "view-in-github",
        "colab_type": "text"
      },
      "source": [
        "<a href=\"https://colab.research.google.com/github/JawadArnob/Simulation-and-Modeling-laboratory/blob/main/Assignment_2_1.ipynb\" target=\"_parent\"><img src=\"https://colab.research.google.com/assets/colab-badge.svg\" alt=\"Open In Colab\"/></a>"
      ]
    },
    {
      "cell_type": "code",
      "metadata": {
        "colab": {
          "base_uri": "https://localhost:8080/",
          "height": 375
        },
        "id": "zib3mV1KcDXP",
        "outputId": "9fe17310-8de7-4f10-bde9-3bc02ab8b12b"
      },
      "source": [
        "import math\r\n",
        "import random\r\n",
        "import matplotlib.pyplot as plt\r\n",
        "\r\n",
        "N=100\r\n",
        "hit=0\r\n",
        "\r\n",
        "plt.figure(figsize=(5,5))\r\n",
        "plt.plot([-5,5,5,-5,-5],[-5,-5,5,5,-5],c='red')\r\n",
        "\r\n",
        "interval=1/1000\r\n",
        "\r\n",
        "ax = []\r\n",
        "ay = []\r\n",
        "\r\n",
        "ax1 = []\r\n",
        "ay1 = []\r\n",
        "for i in range(-3000, 3001):\r\n",
        "    x = i*interval\r\n",
        "    ax.append(x)\r\n",
        "    y = math.sqrt(9-x*x)\r\n",
        "    ay.append(y)\r\n",
        "\r\n",
        "for i in range(-3000, 3001):\r\n",
        "    x = i*interval\r\n",
        "    ax1.append(x)\r\n",
        "    y = -(math.sqrt(9-x*x))\r\n",
        "    ay1.append(y)\r\n",
        "#plotting circle\r\n",
        "plt.plot(ax,ay,c='green')\r\n",
        "plt.plot(ax1,ay1,c='green')\r\n",
        "\r\n",
        "hx = []\r\n",
        "hy = []\r\n",
        "\r\n",
        "mx = []\r\n",
        "my = []\r\n",
        "\r\n",
        "for i in range(1,N+1):\r\n",
        "  x=random.uniform(-5,5)\r\n",
        "  y=random.uniform(-5,5)\r\n",
        " # if y <= math.sqrt(9-x*x) and y>= -(math.sqrt(9-x*x)):\r\n",
        "  if (x*x+y*y)<=9:\r\n",
        "        hit += 1\r\n",
        "        hx.append(x)\r\n",
        "        hy.append(y)\r\n",
        "\r\n",
        "  else:\r\n",
        "        mx.append(x)\r\n",
        "        my.append(y)\r\n",
        "pi=(hit*100)/(N*9)\r\n",
        "print(pi)\r\n",
        "\r\n",
        "plt.scatter(mx,my,c='blue',s=4)\r\n",
        "plt.scatter(hx,hy,c='red',s=4)\r\n",
        "\r\n",
        "print(hit)\r\n",
        "\r\n",
        "est_area=pi*9\r\n",
        "print('estimated area of circle', est_area)\r\n",
        "\r\n"
      ],
      "execution_count": 3,
      "outputs": [
        {
          "output_type": "stream",
          "text": [
            "2.888888888888889\n",
            "26\n",
            "estimated area of circle 26.0\n"
          ],
          "name": "stdout"
        },
        {
          "output_type": "display_data",
          "data": {
            "image/png": "[encoded data removed]",
            "text/plain": [
              "<Figure size 360x360 with 1 Axes>"
            ]
          },
          "metadata": {
            "tags": [],
            "needs_background": "light"
          }
        }
      ]
    },
    {
      "cell_type": "code",
      "metadata": {
        "colab": {
          "base_uri": "https://localhost:8080/",
          "height": 336
        },
        "id": "yLYPRH35R11V",
        "outputId": "aedaa47a-b868-4c84-fe0e-bf7087d64bab"
      },
      "source": [
        "\r\n",
        "fig = plt.figure()\r\n",
        "ax = fig.add_axes([0,0,1,1])\r\n",
        "trials = ['100','1000','10000']\r\n",
        "p = [3.33,3.03,3.04]\r\n",
        "ax.bar(trials,p)\r\n",
        "plt.show()"
      ],
      "execution_count": 4,
      "outputs": [
        {
          "output_type": "display_data",
          "data": {
            "image/png": "[encoded data removed]",
            "text/plain": [
              "<Figure size 432x288 with 1 Axes>"
            ]
          },
          "metadata": {
            "tags": [],
            "needs_background": "light"
          }
        }
      ]
    },
    {
      "cell_type": "code",
      "metadata": {
        "colab": {
          "base_uri": "https://localhost:8080/",
          "height": 336
        },
        "id": "JIIhTQuMSKLh",
        "outputId": "1f2d47dd-91d8-4158-95fb-da0c440f56e7"
      },
      "source": [
        "\r\n",
        "fig = plt.figure()\r\n",
        "ax = fig.add_axes([0,0,1,1])\r\n",
        "trials = ['100','1000','10000']\r\n",
        "area = [33.0,29.0,27.42]\r\n",
        "ax.bar(trials,area)\r\n",
        "plt.show()"
      ],
      "execution_count": 5,
      "outputs": [
        {
          "output_type": "display_data",
          "data": {
            "image/png": "[encoded data removed]",
            "text/plain": [
              "<Figure size 432x288 with 1 Axes>"
            ]
          },
          "metadata": {
            "tags": [],
            "needs_background": "light"
          }
        }
      ]
    }
  ]
}